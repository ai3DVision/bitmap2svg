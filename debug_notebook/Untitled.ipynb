{
 "cells": [
  {
   "cell_type": "code",
   "execution_count": 1,
   "metadata": {
    "collapsed": false
   },
   "outputs": [],
   "source": [
    "import numpy as np\n",
    "import os\n",
    "from data_loader import build_vocab, get_loader\n",
    "from model import EncoderCNN, DecoderRNN \n",
    "from model import ResNet, ResidualBlock\n",
    "import torch\n",
    "from torch.autograd import Variable \n",
    "from torch.nn.utils.rnn import pack_padded_sequence\n",
    "from torchvision import transforms\n",
    "import pickle\n",
    "import torch.nn as nn \n",
    "h_dec = torch.rand(128,26)\n",
    "\n",
    "def to_var(x, volatile=False):\n",
    "    if torch.cuda.is_available():\n",
    "        x = x.cuda()\n",
    "    return Variable(x, volatile=volatile)\n",
    "\n",
    "def rearrange_tensor(x, batch_size, caption_size):\n",
    "    for i in range(caption_size):\n",
    "        temp = x[i*batch_size:(i+1)*batch_size].view(batch_size, -1)\n",
    "        if i == 0:\n",
    "            temp_cat = temp \n",
    "        else: \n",
    "            temp_cat = torch.cat((temp_cat,  temp), 1)\n",
    "\n",
    "    return temp_cat\n",
    "\n",
    "root_path ='data/circle_and_rect/'\n",
    "vocab_path ='data/vocab.pkl'\n",
    "batch_size= 128 \n",
    "num_workers = 2 \n",
    "embed_size = 256\n",
    "hidden_size = 512\n",
    "num_layers =1 "
   ]
  },
  {
   "cell_type": "code",
   "execution_count": 2,
   "metadata": {
    "collapsed": false
   },
   "outputs": [],
   "source": [
    "# Image preprocessing\n",
    "transform = transforms.Compose([\n",
    "    transforms.ToTensor(), \n",
    "    transforms.Normalize((0.485, 0.456, 0.406), \n",
    "                         (0.229, 0.224, 0.225))])\n",
    "\n",
    "# Load vocabulary wrapper\n",
    "with open(vocab_path, 'rb') as f:\n",
    "    vocab = pickle.load(f)\n",
    "len_vocab = vocab.idx\n",
    "\n",
    "data_loader = get_loader(root_path, vocab, \n",
    "                         transform, batch_size,\n",
    "                         shuffle=True, num_workers=num_workers) \n",
    "\n",
    "encoder = ResNet(ResidualBlock, [3, 3, 3],len_vocab)\n",
    "decoder = DecoderRNN(len_vocab, hidden_size, \n",
    "                     len(vocab), num_layers)\n",
    "\n",
    "if torch.cuda.is_available():\n",
    "        encoder.cuda()\n",
    "        decoder.cuda()"
   ]
  },
  {
   "cell_type": "code",
   "execution_count": 3,
   "metadata": {
    "collapsed": false
   },
   "outputs": [],
   "source": [
    "for i, (images, captions, lengths) in enumerate(data_loader):\n",
    "    if i > 1 : \n",
    "        break;\n",
    "    cap_ = torch.unsqueeze(captions,2)\n",
    "    one_hot_ = torch.FloatTensor(batch_size,captions.size(1),len_vocab).zero_()\n",
    "    one_hot_caption = one_hot_.scatter_(2, cap_, 1)    \n",
    "    leng = lengths\n",
    "    \n",
    "    images = to_var(images)  \n",
    "    captions = to_var(captions)\n",
    "    captions_ = to_var(one_hot_caption)\n",
    "    features = encoder(images)\n",
    "    targets = pack_padded_sequence(captions, lengths, batch_first=True)[0]\n",
    "    outputs = decoder(features, captions_, lengths)\n",
    "    \n"
   ]
  },
  {
   "cell_type": "code",
   "execution_count": 15,
   "metadata": {
    "collapsed": false
   },
   "outputs": [
    {
     "data": {
      "text/plain": [
       "Variable containing:\n",
       " 0.1514 -0.6299 -0.5498  ...   0.2470 -0.4758 -0.0528\n",
       " 0.2110  0.3993  0.0387  ...  -0.2643 -0.3959  0.0107\n",
       " 0.2059  0.5353  0.1640  ...  -0.3173 -0.2057 -0.2928\n",
       "          ...             ⋱             ...          \n",
       " 0.2427 -0.1323  0.2085  ...  -0.5680 -0.4116  1.1060\n",
       "-0.8971  0.6601  1.3120  ...  -1.2357 -0.2281 -0.1544\n",
       " 0.0348  0.0856 -0.0078  ...  -0.2732 -0.3577  0.1062\n",
       "[torch.cuda.FloatTensor of size 128x26 (GPU 0)]"
      ]
     },
     "execution_count": 15,
     "metadata": {},
     "output_type": "execute_result"
    }
   ],
   "source": [
    "features"
   ]
  },
  {
   "cell_type": "code",
   "execution_count": 13,
   "metadata": {
    "collapsed": false
   },
   "outputs": [],
   "source": [
    "import torch.nn as nn \n",
    "lstm = nn.LSTM(len_vocab, hidden_size, num_layers, batch_first=True).cuda(1)\n",
    "temp_cat = torch.cat((features.unsqueeze(1),captions_),1)\n",
    "hiddens_temp, _ = lstm(temp_cat)"
   ]
  },
  {
   "cell_type": "code",
   "execution_count": 14,
   "metadata": {
    "collapsed": false
   },
   "outputs": [
    {
     "data": {
      "text/plain": [
       "(Variable containing:\n",
       " ( 0 ,.,.) = \n",
       "  -2.9497e-03 -1.2480e-02 -1.5294e-02  ...   1.6388e-02 -8.7888e-03  1.4579e-02\n",
       "   1.1192e-02 -7.6828e-03 -3.0252e-02  ...   1.0948e-02  3.4776e-04  3.1918e-03\n",
       "   1.1136e-02  9.9110e-05 -2.3322e-02  ...   1.4504e-02  4.7733e-03  2.1861e-03\n",
       "   1.8795e-02  2.4935e-03 -2.1392e-02  ...   1.1449e-02  1.3152e-03  1.1527e-02\n",
       "   2.2420e-02  3.3504e-03 -2.0521e-02  ...   1.0018e-02 -2.1358e-03  1.5562e-02\n",
       "   1.5326e-02 -1.0396e-02 -3.0186e-02  ...   1.8326e-02 -1.2069e-02  9.6916e-03\n",
       " \n",
       " ( 1 ,.,.) = \n",
       "  -2.9497e-03 -1.2480e-02 -1.5294e-02  ...   1.6388e-02 -8.7888e-03  1.4579e-02\n",
       "   3.0426e-03 -7.2670e-03 -2.3224e-02  ...   1.8275e-02 -6.5073e-03  1.7082e-02\n",
       "   6.6743e-03 -4.1104e-04 -2.1789e-02  ...   1.9862e-02  3.2658e-04  1.0506e-02\n",
       "   6.4547e-03 -1.0442e-02 -2.0746e-02  ...   1.3157e-02  8.1170e-04  1.3963e-02\n",
       "   7.1653e-03 -1.6244e-02 -1.8721e-02  ...   9.0862e-03  1.2164e-04  1.5033e-02\n",
       "   9.0729e-03 -2.1111e-02 -2.7527e-02  ...   1.7913e-02 -1.0420e-02  1.0398e-02\n",
       " \n",
       " ( 2 ,.,.) = \n",
       "  -2.9497e-03 -1.2480e-02 -1.5294e-02  ...   1.6388e-02 -8.7888e-03  1.4579e-02\n",
       "  -3.0460e-03 -5.0716e-03 -2.7721e-02  ...   2.6441e-02 -9.9384e-03  8.7817e-03\n",
       "   3.4843e-03  1.1068e-03 -2.3559e-02  ...   2.3462e-02 -2.1480e-04  5.7008e-03\n",
       "   1.0891e-02  2.9035e-03 -2.4341e-02  ...   1.3035e-02  5.7072e-03 -4.5010e-03\n",
       "   1.5567e-02  4.0871e-03 -2.4307e-02  ...   7.7650e-03  7.8786e-03 -9.5692e-03\n",
       "   1.3692e-02 -9.0406e-03 -3.1937e-02  ...   1.8133e-02 -5.5578e-03 -1.5102e-03\n",
       " ... \n",
       " \n",
       " (125,.,.) = \n",
       "  -2.9497e-03 -1.2480e-02 -1.5294e-02  ...   1.6388e-02 -8.7888e-03  1.4579e-02\n",
       "   1.8840e-04 -1.0108e-02 -2.1606e-02  ...   9.2768e-03  7.4552e-03  4.1143e-03\n",
       "   1.5458e-02 -1.0886e-03 -3.2381e-02  ...   1.6231e-02  1.5852e-02 -7.6697e-04\n",
       "   1.6574e-02  1.6991e-03 -2.7302e-02  ...   9.5159e-03  1.1605e-02 -7.1079e-03\n",
       "   1.3780e-02 -1.0452e-02 -3.3213e-02  ...   1.9083e-02 -4.3959e-03 -6.3270e-05\n",
       "   2.5952e-02 -7.4213e-03 -3.4911e-02  ...   1.0978e-02  2.7639e-03  1.3875e-02\n",
       " \n",
       " (126,.,.) = \n",
       "  -2.9497e-03 -1.2480e-02 -1.5294e-02  ...   1.6388e-02 -8.7888e-03  1.4579e-02\n",
       "   1.1192e-02 -7.6828e-03 -3.0252e-02  ...   1.0948e-02  3.4776e-04  3.1918e-03\n",
       "   2.1539e-02  1.7880e-03 -3.5923e-02  ...   1.5485e-02  1.1632e-02 -3.2391e-04\n",
       "   2.1310e-02 -9.1288e-03 -3.8867e-02  ...   2.2158e-02 -1.0409e-03 -7.5718e-04\n",
       "   1.7473e-02 -1.5696e-02 -3.8180e-02  ...   2.4404e-02 -1.0057e-02  2.7680e-03\n",
       "   2.8446e-02 -9.9719e-03 -3.6917e-02  ...   1.3544e-02 -1.8287e-04  1.5004e-02\n",
       " \n",
       " (127,.,.) = \n",
       "  -2.9497e-03 -1.2480e-02 -1.5294e-02  ...   1.6388e-02 -8.7888e-03  1.4579e-02\n",
       "  -5.3926e-03 -7.8317e-03 -1.5103e-02  ...   1.1337e-02 -8.1357e-03  1.5399e-02\n",
       "   1.4176e-02  1.1943e-03 -2.8045e-02  ...   1.8673e-02  7.6860e-03  6.8902e-03\n",
       "   1.6652e-02  3.5156e-03 -2.4808e-02  ...   1.1388e-02  7.2549e-03 -2.8893e-03\n",
       "   1.4132e-02 -9.1713e-03 -3.1841e-02  ...   2.0246e-02 -6.8940e-03  2.1211e-03\n",
       "   2.6272e-02 -6.6014e-03 -3.4244e-02  ...   1.1710e-02  1.2132e-03  1.4903e-02\n",
       " [torch.cuda.FloatTensor of size 128x6x512 (GPU 0)], (Variable containing:\n",
       "  ( 0 ,.,.) = \n",
       "    1.5326e-02 -1.0396e-02 -3.0186e-02  ...   1.8326e-02 -1.2069e-02  9.6916e-03\n",
       "    9.0729e-03 -2.1111e-02 -2.7527e-02  ...   1.7913e-02 -1.0420e-02  1.0398e-02\n",
       "    1.3692e-02 -9.0406e-03 -3.1937e-02  ...   1.8133e-02 -5.5578e-03 -1.5102e-03\n",
       "                   ...                   ⋱                   ...                \n",
       "    2.5952e-02 -7.4213e-03 -3.4911e-02  ...   1.0978e-02  2.7639e-03  1.3875e-02\n",
       "    2.8446e-02 -9.9719e-03 -3.6917e-02  ...   1.3544e-02 -1.8287e-04  1.5004e-02\n",
       "    2.6272e-02 -6.6014e-03 -3.4244e-02  ...   1.1710e-02  1.2132e-03  1.4903e-02\n",
       "  [torch.cuda.FloatTensor of size 1x128x512 (GPU 0)], Variable containing:\n",
       "  ( 0 ,.,.) = \n",
       "    3.0143e-02 -2.0054e-02 -6.1113e-02  ...   3.6299e-02 -2.4287e-02  1.9101e-02\n",
       "    1.7891e-02 -4.0817e-02 -5.5834e-02  ...   3.5548e-02 -2.0861e-02  2.0494e-02\n",
       "    2.6930e-02 -1.7463e-02 -6.4315e-02  ...   3.5824e-02 -1.1155e-02 -2.9730e-03\n",
       "                   ...                   ⋱                   ...                \n",
       "    5.0718e-02 -1.4409e-02 -7.1587e-02  ...   2.1452e-02  5.4310e-03  2.7059e-02\n",
       "    5.5570e-02 -1.9398e-02 -7.5961e-02  ...   2.6481e-02 -3.5940e-04  2.9296e-02\n",
       "    5.1345e-02 -1.2827e-02 -7.0171e-02  ...   2.2877e-02  2.3820e-03  2.9070e-02\n",
       "  [torch.cuda.FloatTensor of size 1x128x512 (GPU 0)]))"
      ]
     },
     "execution_count": 14,
     "metadata": {},
     "output_type": "execute_result"
    }
   ],
   "source": [
    "lstm(captions_)"
   ]
  },
  {
   "cell_type": "code",
   "execution_count": null,
   "metadata": {
    "collapsed": false
   },
   "outputs": [],
   "source": [
    "linear = nn.Linear(hidden_size, len_vocab).cuda()"
   ]
  },
  {
   "cell_type": "code",
   "execution_count": null,
   "metadata": {
    "collapsed": false
   },
   "outputs": [],
   "source": [
    "temp4= hiddens_temp.contiguous().view(-1,hidden_size)"
   ]
  },
  {
   "cell_type": "code",
   "execution_count": null,
   "metadata": {
    "collapsed": false
   },
   "outputs": [],
   "source": [
    "packed2 = pack_padded_sequence(captions_, leng, batch_first=True)\n",
    "packed2"
   ]
  },
  {
   "cell_type": "code",
   "execution_count": null,
   "metadata": {
    "collapsed": false
   },
   "outputs": [],
   "source": [
    "hiddens_temp.contiguous().view(-1,512)"
   ]
  },
  {
   "cell_type": "code",
   "execution_count": null,
   "metadata": {
    "collapsed": false
   },
   "outputs": [],
   "source": [
    "temp3 = torch.rand(128,7,512)"
   ]
  },
  {
   "cell_type": "code",
   "execution_count": null,
   "metadata": {
    "collapsed": false
   },
   "outputs": [],
   "source": [
    "linear = nn.Linear(hidden_size, len_vocab"
   ]
  },
  {
   "cell_type": "code",
   "execution_count": null,
   "metadata": {
    "collapsed": false
   },
   "outputs": [],
   "source": [
    "linear = nn.Linear(hidden_size, len_vocab).cuda(1)\n",
    "temp2 = torch.rand(hidden_size).cuda(1)\n",
    "linear(temp2).size()"
   ]
  },
  {
   "cell_type": "code",
   "execution_count": null,
   "metadata": {
    "collapsed": false
   },
   "outputs": [],
   "source": [
    "linear = nn.Linear(hidden_size, len_vocab).cuda(1)\n",
    "linear(hiddens_temp)"
   ]
  },
  {
   "cell_type": "code",
   "execution_count": 4,
   "metadata": {
    "collapsed": false
   },
   "outputs": [],
   "source": [
    "embeddings = torch.cat((features.unsqueeze(1),captions_), 1)\n",
    "packed = pack_padded_sequence(embeddings, leng, batch_first=True)"
   ]
  },
  {
   "cell_type": "code",
   "execution_count": 6,
   "metadata": {
    "collapsed": false
   },
   "outputs": [
    {
     "data": {
      "text/plain": [
       "Variable containing:\n",
       "( 0 ,.,.) = \n",
       "  0.1514 -0.6299 -0.5498  ...   0.2470 -0.4758 -0.0528\n",
       "  0.0000  1.0000  0.0000  ...   0.0000  0.0000  0.0000\n",
       "  0.0000  0.0000  0.0000  ...   0.0000  0.0000  0.0000\n",
       "           ...             ⋱             ...          \n",
       "  0.0000  0.0000  0.0000  ...   0.0000  0.0000  0.0000\n",
       "  0.0000  0.0000  0.0000  ...   0.0000  0.0000  0.0000\n",
       "  0.0000  0.0000  1.0000  ...   0.0000  0.0000  0.0000\n",
       "\n",
       "( 1 ,.,.) = \n",
       "  0.2110  0.3993  0.0387  ...  -0.2643 -0.3959  0.0107\n",
       "  0.0000  1.0000  0.0000  ...   0.0000  0.0000  0.0000\n",
       "  0.0000  0.0000  0.0000  ...   0.0000  0.0000  0.0000\n",
       "           ...             ⋱             ...          \n",
       "  0.0000  0.0000  0.0000  ...   0.0000  0.0000  0.0000\n",
       "  0.0000  0.0000  0.0000  ...   0.0000  0.0000  0.0000\n",
       "  0.0000  0.0000  1.0000  ...   0.0000  0.0000  0.0000\n",
       "\n",
       "( 2 ,.,.) = \n",
       "  0.2059  0.5353  0.1640  ...  -0.3173 -0.2057 -0.2928\n",
       "  0.0000  1.0000  0.0000  ...   0.0000  0.0000  0.0000\n",
       "  0.0000  0.0000  0.0000  ...   0.0000  0.0000  0.0000\n",
       "           ...             ⋱             ...          \n",
       "  0.0000  0.0000  0.0000  ...   1.0000  0.0000  0.0000\n",
       "  0.0000  0.0000  0.0000  ...   1.0000  0.0000  0.0000\n",
       "  0.0000  0.0000  1.0000  ...   0.0000  0.0000  0.0000\n",
       "... \n",
       "\n",
       "(125,.,.) = \n",
       "  0.2427 -0.1323  0.2085  ...  -0.5680 -0.4116  1.1060\n",
       "  0.0000  1.0000  0.0000  ...   0.0000  0.0000  0.0000\n",
       "  0.0000  0.0000  0.0000  ...   0.0000  0.0000  0.0000\n",
       "           ...             ⋱             ...          \n",
       "  0.0000  0.0000  0.0000  ...   1.0000  0.0000  0.0000\n",
       "  0.0000  0.0000  1.0000  ...   0.0000  0.0000  0.0000\n",
       "  1.0000  0.0000  0.0000  ...   0.0000  0.0000  0.0000\n",
       "\n",
       "(126,.,.) = \n",
       " -0.8971  0.6601  1.3120  ...  -1.2357 -0.2281 -0.1544\n",
       "  0.0000  1.0000  0.0000  ...   0.0000  0.0000  0.0000\n",
       "  0.0000  0.0000  0.0000  ...   0.0000  0.0000  0.0000\n",
       "           ...             ⋱             ...          \n",
       "  0.0000  0.0000  0.0000  ...   0.0000  0.0000  0.0000\n",
       "  0.0000  0.0000  1.0000  ...   0.0000  0.0000  0.0000\n",
       "  1.0000  0.0000  0.0000  ...   0.0000  0.0000  0.0000\n",
       "\n",
       "(127,.,.) = \n",
       "  0.0348  0.0856 -0.0078  ...  -0.2732 -0.3577  0.1062\n",
       "  0.0000  1.0000  0.0000  ...   0.0000  0.0000  0.0000\n",
       "  0.0000  0.0000  0.0000  ...   0.0000  0.0000  0.0000\n",
       "           ...             ⋱             ...          \n",
       "  0.0000  0.0000  0.0000  ...   1.0000  0.0000  0.0000\n",
       "  0.0000  0.0000  1.0000  ...   0.0000  0.0000  0.0000\n",
       "  1.0000  0.0000  0.0000  ...   0.0000  0.0000  0.0000\n",
       "[torch.cuda.FloatTensor of size 128x7x26 (GPU 0)]"
      ]
     },
     "execution_count": 6,
     "metadata": {},
     "output_type": "execute_result"
    }
   ],
   "source": [
    "embeddings"
   ]
  },
  {
   "cell_type": "code",
   "execution_count": 7,
   "metadata": {
    "collapsed": false
   },
   "outputs": [
    {
     "data": {
      "text/plain": [
       "Variable containing:\n",
       " 0.1514 -0.6299 -0.5498  ...   0.2470 -0.4758 -0.0528\n",
       " 0.2110  0.3993  0.0387  ...  -0.2643 -0.3959  0.0107\n",
       " 0.2059  0.5353  0.1640  ...  -0.3173 -0.2057 -0.2928\n",
       "          ...             ⋱             ...          \n",
       " 0.0000  0.0000  0.0000  ...   0.0000  0.0000  0.0000\n",
       " 0.0000  0.0000  0.0000  ...   0.0000  0.0000  0.0000\n",
       " 0.0000  0.0000  0.0000  ...   0.0000  0.0000  0.0000\n",
       "[torch.cuda.FloatTensor of size 709x26 (GPU 0)]"
      ]
     },
     "execution_count": 7,
     "metadata": {},
     "output_type": "execute_result"
    }
   ],
   "source": [
    "packed[0]"
   ]
  },
  {
   "cell_type": "code",
   "execution_count": null,
   "metadata": {
    "collapsed": false
   },
   "outputs": [],
   "source": [
    "import torch.nn as nn \n",
    "lstm = nn.LSTM(len_vocab, hidden_size, num_layers, batch_first=True).cuda(1)"
   ]
  },
  {
   "cell_type": "code",
   "execution_count": null,
   "metadata": {
    "collapsed": false
   },
   "outputs": [],
   "source": [
    "hiddens, _ = lstm(packed)"
   ]
  },
  {
   "cell_type": "code",
   "execution_count": null,
   "metadata": {
    "collapsed": false
   },
   "outputs": [],
   "source": [
    "features"
   ]
  },
  {
   "cell_type": "code",
   "execution_count": null,
   "metadata": {
    "collapsed": false
   },
   "outputs": [],
   "source": [
    "hiddens[0]"
   ]
  },
  {
   "cell_type": "code",
   "execution_count": null,
   "metadata": {
    "collapsed": false
   },
   "outputs": [],
   "source": [
    "packed"
   ]
  },
  {
   "cell_type": "code",
   "execution_count": null,
   "metadata": {
    "collapsed": false
   },
   "outputs": [],
   "source": [
    "y_onehot = torch.FloatTensor(1, 26)\n",
    "\n",
    "one_hot = y_onehot.zero_()\n",
    "#y_onehot.scatter_(1, 2, 1)\n",
    "one_hot[:,1] = 1 "
   ]
  },
  {
   "cell_type": "code",
   "execution_count": null,
   "metadata": {
    "collapsed": false
   },
   "outputs": [],
   "source": [
    "tep = torch.FloatTensor(1,1)\n",
    "tep[0] = 1"
   ]
  },
  {
   "cell_type": "code",
   "execution_count": null,
   "metadata": {
    "collapsed": false
   },
   "outputs": [],
   "source": [
    "tep[0].cpu().numpy()"
   ]
  },
  {
   "cell_type": "code",
   "execution_count": null,
   "metadata": {
    "collapsed": false
   },
   "outputs": [],
   "source": [
    "y_onehot.scatter_(0,inx, 1.0)"
   ]
  },
  {
   "cell_type": "code",
   "execution_count": null,
   "metadata": {
    "collapsed": false
   },
   "outputs": [],
   "source": [
    "import torch.nn as nn \n",
    "embed = nn.Embedding(26,512)"
   ]
  },
  {
   "cell_type": "code",
   "execution_count": null,
   "metadata": {
    "collapsed": true
   },
   "outputs": [],
   "source": [
    "rand = Variable(torch.rand(26).long())"
   ]
  },
  {
   "cell_type": "code",
   "execution_count": null,
   "metadata": {
    "collapsed": false
   },
   "outputs": [],
   "source": [
    "embed(rand)"
   ]
  },
  {
   "cell_type": "code",
   "execution_count": null,
   "metadata": {
    "collapsed": false
   },
   "outputs": [],
   "source": [
    "captions2"
   ]
  },
  {
   "cell_type": "code",
   "execution_count": null,
   "metadata": {
    "collapsed": false
   },
   "outputs": [],
   "source": [
    "captions2"
   ]
  },
  {
   "cell_type": "code",
   "execution_count": null,
   "metadata": {
    "collapsed": false
   },
   "outputs": [],
   "source": [
    "torch.cat((features.unsqueeze(1), captions1), 1)"
   ]
  },
  {
   "cell_type": "code",
   "execution_count": null,
   "metadata": {
    "collapsed": true
   },
   "outputs": [],
   "source": [
    "temp_images = to_var(images)\n",
    "features= encoder(temp_images)\n"
   ]
  },
  {
   "cell_type": "code",
   "execution_count": null,
   "metadata": {
    "collapsed": false
   },
   "outputs": [],
   "source": [
    "features.requires_grad"
   ]
  },
  {
   "cell_type": "code",
   "execution_count": null,
   "metadata": {
    "collapsed": false
   },
   "outputs": [],
   "source": [
    "temp_images = to_var(images)\n",
    "temp_caption = to_var(captions)\n",
    "embedding =decoder.embed(temp_caption)\n",
    "features= encoder(temp_images)\n",
    "cat_embeddings = torch.cat((features.unsqueeze(1), embedding), 1)       \n",
    "packed = pack_padded_sequence(cat_embeddings, leng, batch_first=True) \n",
    "hidden, _ = decoder.lstm(packed)"
   ]
  },
  {
   "cell_type": "code",
   "execution_count": null,
   "metadata": {
    "collapsed": false
   },
   "outputs": [],
   "source": [
    "cap_ = torch.unsqueeze(captions,2)\n",
    "one_hot_ = torch.FloatTensor(128,5,26).zero_()\n",
    "one_hot_caption = one_hot_.scatter_(2, cap_, 1)\n",
    "temp_images = to_var(images)\n",
    "features= encoder(temp_images)\n",
    "one_hot_caption_ = to_var(one_hot_caption)"
   ]
  },
  {
   "cell_type": "code",
   "execution_count": null,
   "metadata": {
    "collapsed": true
   },
   "outputs": [],
   "source": []
  },
  {
   "cell_type": "code",
   "execution_count": null,
   "metadata": {
    "collapsed": false
   },
   "outputs": [],
   "source": [
    "torch.cat((features.unsqueeze(1), one_hot_caption_), 1) "
   ]
  },
  {
   "cell_type": "code",
   "execution_count": null,
   "metadata": {
    "collapsed": false
   },
   "outputs": [],
   "source": [
    "decoder(features, one_hot_caption_, leng)"
   ]
  },
  {
   "cell_type": "code",
   "execution_count": null,
   "metadata": {
    "collapsed": false
   },
   "outputs": [],
   "source": [
    "packed"
   ]
  },
  {
   "cell_type": "code",
   "execution_count": null,
   "metadata": {
    "collapsed": false
   },
   "outputs": [],
   "source": [
    "captions"
   ]
  },
  {
   "cell_type": "code",
   "execution_count": null,
   "metadata": {
    "collapsed": false
   },
   "outputs": [],
   "source": [
    "tmep_cap_ = captions.unsqueeze(2)"
   ]
  },
  {
   "cell_type": "code",
   "execution_count": null,
   "metadata": {
    "collapsed": false
   },
   "outputs": [],
   "source": [
    "tmep_cap_.cuda(1)"
   ]
  },
  {
   "cell_type": "code",
   "execution_count": null,
   "metadata": {
    "collapsed": false
   },
   "outputs": [],
   "source": [
    "one_hot = torch.FloatTensor(128,5,26).zero_().cuda(1)"
   ]
  },
  {
   "cell_type": "code",
   "execution_count": null,
   "metadata": {
    "collapsed": false
   },
   "outputs": [],
   "source": [
    "one_hot.scatter_(2,tmep_cap_, 1)"
   ]
  },
  {
   "cell_type": "code",
   "execution_count": null,
   "metadata": {
    "collapsed": false
   },
   "outputs": [],
   "source": [
    "cap_ = torch.unsqueeze(captions,2)\n",
    "one_hot_ = torch.LongTensor(128,5,26).zero_()\n",
    "ddas = one_hot_.scatter_(2, cap_, 1)"
   ]
  },
  {
   "cell_type": "code",
   "execution_count": null,
   "metadata": {
    "collapsed": false
   },
   "outputs": [],
   "source": [
    "ddas.cuda()"
   ]
  },
  {
   "cell_type": "code",
   "execution_count": null,
   "metadata": {
    "collapsed": false
   },
   "outputs": [],
   "source": [
    "n = 10\n",
    "inp = torch.LongTensor(16, 28) % n\n",
    "inp_ = torch.unsqueeze(inp, 2)\n",
    "\n",
    "one_hot = torch.FloatTensor(16, 28, n).zero_()\n",
    "one_hot.scatter_(2, inp_, 1)\n",
    "\n",
    "print(inp)\n",
    "print(one_hot)"
   ]
  },
  {
   "cell_type": "code",
   "execution_count": null,
   "metadata": {
    "collapsed": true
   },
   "outputs": [],
   "source": [
    "torch.dot(torch.Tensor)"
   ]
  }
 ],
 "metadata": {
  "anaconda-cloud": {},
  "kernelspec": {
   "display_name": "Python [conda root]",
   "language": "python",
   "name": "conda-root-py"
  },
  "language_info": {
   "codemirror_mode": {
    "name": "ipython",
    "version": 3
   },
   "file_extension": ".py",
   "mimetype": "text/x-python",
   "name": "python",
   "nbconvert_exporter": "python",
   "pygments_lexer": "ipython3",
   "version": "3.4.5"
  }
 },
 "nbformat": 4,
 "nbformat_minor": 2
}

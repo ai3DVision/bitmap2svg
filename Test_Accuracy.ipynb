{
 "cells": [
  {
   "cell_type": "code",
   "execution_count": null,
   "metadata": {
    "collapsed": false
   },
   "outputs": [],
   "source": [
    "import torch\n",
    "import matplotlib.pyplot as plt\n",
    "import numpy as np \n",
    "import argparse\n",
    "import pickle \n",
    "import os\n",
    "from torch.autograd import Variable \n",
    "from torchvision import transforms \n",
    "from data_loader import build_vocab \n",
    "from model import EncoderCNN, DecoderRNN\n",
    "from model import ResNet, ResidualBlock\n",
    "from PIL import Image\n",
    "\n",
    "\n",
    "embed_size = 256\n",
    "hidden_size = 512 \n",
    "num_layers = 1 \n",
    "decoder_path = './models/decoder-5-150.pkl'\n",
    "encoder_path = './models/encoder-5-150.pkl'\n",
    "\n",
    "\n",
    "def to_var(x, volatile=False):\n",
    "    if torch.cuda.is_available():\n",
    "        x = x.cuda()\n",
    "    return Variable(x, volatile=volatile)\n",
    "\n",
    "def load_image(image_path, transform=None):\n",
    "    image = Image.open(image_path).convert('RGB')\n",
    "    image = image.resize([64, 64], Image.LANCZOS)\n",
    "    \n",
    "    if transform is not None:\n",
    "        image = transform(image).unsqueeze(0)\n",
    "    \n",
    "    return image\n",
    "\n",
    "transform = transforms.Compose([ \n",
    "    transforms.ToTensor(), \n",
    "    transforms.Normalize((0.033, 0.032, 0.033), \n",
    "                         (0.027, 0.027, 0.027))])\n",
    "\n",
    "\n",
    "\n",
    "vocab_path = './data/vocab.pkl'\n",
    "with open(vocab_path, 'rb') as f:\n",
    "    vocab = pickle.load(f)\n",
    "len_vocab = vocab.idx\n",
    "\n",
    "# Build Models\n",
    "encoder = ResNet(ResidualBlock, [3, 3, 3], len_vocab)\n",
    "encoder.eval()  # evaluation mode (BN uses moving mean/variance)\n",
    "decoder = DecoderRNN(len_vocab, hidden_size, \n",
    "                     len(vocab), num_layers)\n",
    "\n",
    "\n",
    "# Load the trained model parameters\n",
    "encoder.load_state_dict(torch.load(encoder_path))\n",
    "decoder.load_state_dict(torch.load(decoder_path))\n",
    "\n",
    "# If use gpu\n",
    "if torch.cuda.is_available():\n",
    "    encoder.cuda()\n",
    "    decoder.cuda()\n",
    "\n",
    "    "
   ]
  },
  {
   "cell_type": "code",
   "execution_count": null,
   "metadata": {
    "collapsed": false,
    "scrolled": false
   },
   "outputs": [],
   "source": [
    "test_dir = 'data/2object_test/bitmap/'\n",
    "cap_dir = 'data/2object_test/caption/'\n",
    "test_list = os.listdir(test_dir)\n",
    "cnt = 0 \n",
    "\n",
    "for fname in test_list: \n",
    "    test_path = test_dir + fname\n",
    "    test_image = load_image(test_path, transform)\n",
    "    image_tensor = to_var(test_image)\n",
    "    \n",
    "    # Generate caption from image\n",
    "    feature = encoder(image_tensor)\n",
    "    sampled_ids = decoder.sample(feature)\n",
    "    ids_arr = []\n",
    "    for element in sampled_ids: \n",
    "        temp = element.cpu().data.numpy()\n",
    "        ids_arr.append(int(temp))\n",
    "\n",
    "\n",
    "    # Decode word_ids to words\n",
    "    sampled_caption = []\n",
    "    for word_id in ids_arr:\n",
    "        word = vocab.idx2word[word_id]\n",
    "        sampled_caption.append(word)\n",
    "        if word == '<end>':\n",
    "            break\n",
    "    sentence = ' '.join(sampled_caption)\n",
    "    print(sentence)\n",
    "    predict = sentence.split()[1]\n",
    "    \n",
    "    cap_target = cap_dir+fname\n",
    "    cap_path = cap_target.split('.')[0]+'.svg'\n",
    "    with open(cap_path, 'r') as f:\n",
    "        target = f.readline()\n",
    "        print('target: '+ target)\n",
    "    if predict == target:\n",
    "        print('corret')\n",
    "    #    cnt+=1 \n",
    "        \n",
    "print(cnt)\n",
    "    \n",
    "    \n",
    "    "
   ]
  },
  {
   "cell_type": "code",
   "execution_count": null,
   "metadata": {
    "collapsed": false
   },
   "outputs": [],
   "source": [
    "feature.unsqueeze(1)"
   ]
  },
  {
   "cell_type": "code",
   "execution_count": null,
   "metadata": {
    "collapsed": false
   },
   "outputs": [],
   "source": [
    "cap_path = img_list[0].split('.')[0]+'.svg'"
   ]
  },
  {
   "cell_type": "code",
   "execution_count": null,
   "metadata": {
    "collapsed": false
   },
   "outputs": [],
   "source": [
    "cap_path"
   ]
  }
 ],
 "metadata": {
  "anaconda-cloud": {},
  "kernelspec": {
   "display_name": "Python [default]",
   "language": "python",
   "name": "python3"
  },
  "language_info": {
   "codemirror_mode": {
    "name": "ipython",
    "version": 3
   },
   "file_extension": ".py",
   "mimetype": "text/x-python",
   "name": "python",
   "nbconvert_exporter": "python",
   "pygments_lexer": "ipython3",
   "version": "3.4.5"
  }
 },
 "nbformat": 4,
 "nbformat_minor": 2
}

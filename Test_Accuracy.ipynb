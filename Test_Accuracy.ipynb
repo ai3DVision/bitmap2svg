{
 "cells": [
  {
   "cell_type": "code",
   "execution_count": 1,
   "metadata": {
    "collapsed": true
   },
   "outputs": [],
   "source": [
    "import torch\n",
    "import matplotlib.pyplot as plt\n",
    "import numpy as np \n",
    "import argparse\n",
    "import pickle \n",
    "import os\n",
    "from torch.autograd import Variable \n",
    "from torchvision import transforms \n",
    "from data_loader import build_vocab \n",
    "from model import EncoderCNN, DecoderRNN\n",
    "from PIL import Image\n",
    "\n",
    "\n",
    "def to_var(x, volatile=False):\n",
    "    if torch.cuda.is_available():\n",
    "        x = x.cuda()\n",
    "    return Variable(x, volatile=volatile)\n",
    "\n",
    "def load_image(image_path, transform=None):\n",
    "    image = Image.open(image_path)\n",
    "    image = image.resize([224, 224], Image.LANCZOS)\n",
    "    \n",
    "    if transform is not None:\n",
    "        image = transform(image).unsqueeze(0)\n",
    "    \n",
    "    return image\n",
    "    "
   ]
  },
  {
   "cell_type": "code",
   "execution_count": 2,
   "metadata": {
    "collapsed": false,
    "scrolled": false
   },
   "outputs": [],
   "source": [
    "embed_size = 256\n",
    "hidden_size = 512 \n",
    "num_layers = 1 \n",
    "in_image = 'bitmap2_test/bitmap/902.png'\n",
    "decoder_path = './models/decoder-5-15.pkl'\n",
    "encoder_path = './models/encoder-5-15.pkl'\n",
    "\n",
    "transform = transforms.Compose([\n",
    "    transforms.ToTensor(), \n",
    "    transforms.Normalize((0.485, 0.456, 0.406), \n",
    "                         (0.229, 0.224, 0.225))])\n",
    "\n",
    "# Load vocabulary wrapper\n",
    "# Build vocab\n",
    "vocab = build_vocab('bitmap2svg_samples2/', threshold=0)\n",
    "\n",
    "# Build Models\n",
    "encoder = EncoderCNN(embed_size)\n",
    "encoder.eval()  # evaluation mode (BN uses moving mean/variance)\n",
    "decoder = DecoderRNN(embed_size, hidden_size, \n",
    "                     len(vocab), num_layers)\n",
    "\n",
    "\n",
    "# Load the trained model parameters\n",
    "encoder.load_state_dict(torch.load(encoder_path))\n",
    "decoder.load_state_dict(torch.load(decoder_path))\n",
    "\n",
    "# Prepare Image\n",
    "image = load_image(in_image, transform)\n",
    "image_tensor = to_var(image, volatile=True)\n",
    "#print(image_tensor)\n",
    "image_tensor = image_tensor[:,0:-1,:,:]\n",
    "#print(image_tensor)\n",
    "\n",
    "# If use gpu\n",
    "if torch.cuda.is_available():\n",
    "    encoder.cuda()\n",
    "    decoder.cuda()\n"
   ]
  },
  {
   "cell_type": "code",
   "execution_count": 8,
   "metadata": {
    "collapsed": false
   },
   "outputs": [
    {
     "name": "stdout",
     "output_type": "stream",
     "text": [
      "11\n"
     ]
    }
   ],
   "source": [
    "test_dir = 'bitmap2_test/bitmap/'\n",
    "cap_dir = 'bitmap2_test/caption/'\n",
    "test_list = os.listdir(test_dir)\n",
    "cnt = 0 \n",
    "\n",
    "for fname in test_list: \n",
    "    test_path = test_dir + fname\n",
    "    #print(test_path)\n",
    "    test_image = load_image(test_path, transform)\n",
    "    image_tensor = to_var(test_image,volatile=True)\n",
    "    image_tensor = image_tensor[:,0:-1,:,:]\n",
    "    \n",
    "    # Generate caption from image\n",
    "    feature = encoder(image_tensor)\n",
    "    sampled_ids = decoder.sample(feature)\n",
    "    ids_arr = []\n",
    "    for element in sampled_ids: \n",
    "        temp = element.cpu().data.numpy()\n",
    "        ids_arr.append(int(temp))\n",
    "\n",
    "    #sampled_ids = sampled_ids.cpu().data.numpy()\n",
    "\n",
    "    # Decode word_ids to words\n",
    "    sampled_caption = []\n",
    "    for word_id in ids_arr:\n",
    "        word = vocab.idx2word[word_id]\n",
    "        sampled_caption.append(word)\n",
    "        if word == '<end>':\n",
    "            break\n",
    "    sentence = ' '.join(sampled_caption)\n",
    "    predict = sentence.split()[1]\n",
    "    #print(sentence)\n",
    "    \n",
    "    cap_target = cap_dir+fname\n",
    "    cap_path = cap_target.split('.')[0]+'.svg'\n",
    "    with open(cap_path, 'r') as f:\n",
    "        target = f.readline().split()[0]\n",
    "    if predict == target:\n",
    "        cnt+=1 \n",
    "        \n",
    "print(cnt)\n",
    "    \n",
    "    \n",
    "    "
   ]
  }
 ],
 "metadata": {
  "kernelspec": {
   "display_name": "Python 3",
   "language": "python",
   "name": "python3"
  },
  "language_info": {
   "codemirror_mode": {
    "name": "ipython",
    "version": 3
   },
   "file_extension": ".py",
   "mimetype": "text/x-python",
   "name": "python",
   "nbconvert_exporter": "python",
   "pygments_lexer": "ipython3",
   "version": "3.6.0"
  }
 },
 "nbformat": 4,
 "nbformat_minor": 2
}

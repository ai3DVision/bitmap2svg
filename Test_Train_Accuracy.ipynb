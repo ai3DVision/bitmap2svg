{
 "cells": [
  {
   "cell_type": "code",
   "execution_count": 5,
   "metadata": {
    "collapsed": false
   },
   "outputs": [],
   "source": [
    "import pickle \n",
    "from data_loader import build_vocab, get_loader\n",
    "from model import EncoderCNN, DecoderRNN \n",
    "from torch.autograd import Variable \n",
    "from torch.nn.utils.rnn import pack_padded_sequence\n",
    "from torchvision import transforms\n",
    "import torch\n",
    "import torch.nn as nn\n",
    "\n",
    "root_path = './data/bitmap2svg_samples2/'\n",
    "batch_size= 64\n",
    "num_workers = 2\n",
    "vocab_path = 'data/vocab.pkl'\n",
    "#vocab = build_vocab(root_path, threshold=0)\n",
    "with open(vocab_path, 'rb') as f:\n",
    "    vocab = pickle.load(f)\n",
    "    \n",
    "transform = transforms.Compose([ \n",
    "    transforms.RandomCrop(224),\n",
    "    transforms.RandomHorizontalFlip(), \n",
    "    transforms.ToTensor(), \n",
    "    transforms.Normalize((0.485, 0.456, 0.406), \n",
    "                         (0.229, 0.224, 0.225))])\n",
    "    \n",
    "# Build data loader\n",
    "data_loader = get_loader(root_path, vocab, \n",
    "                         transform, batch_size,\n",
    "                         \n",
    "                         shuffle=True, num_workers=num_workers) \n",
    "encoder = EncoderCNN(256)\n",
    "decoder = DecoderRNN(256, 512, \n",
    "                     len(vocab),1)\n",
    "\n",
    "if torch.cuda.is_available():\n",
    "    encoder.cuda()\n",
    "    decoder.cuda()"
   ]
  },
  {
   "cell_type": "code",
   "execution_count": 6,
   "metadata": {
    "collapsed": false
   },
   "outputs": [
    {
     "name": "stdout",
     "output_type": "stream",
     "text": [
      "Epoch [0/5], Step [0/16], Loss: 3.2647, Perplexity: 26.1724\n",
      "location match accuracy: 0.0938, exact match accuracy:    0\n",
      "Epoch [0/5], Step [10/16], Loss: 2.2634, Perplexity: 9.6158\n",
      "location match accuracy: 0.0000, exact match accuracy:    0\n",
      "Epoch [1/5], Step [0/16], Loss: 1.7648, Perplexity: 5.8406\n",
      "location match accuracy: 0.0000, exact match accuracy:    0\n",
      "Epoch [1/5], Step [10/16], Loss: 1.2085, Perplexity: 3.3483\n",
      "location match accuracy: 0.0312, exact match accuracy:    0\n",
      "Epoch [2/5], Step [0/16], Loss: 1.0080, Perplexity: 2.7402\n",
      "location match accuracy: 0.1406, exact match accuracy:    0\n",
      "Epoch [2/5], Step [10/16], Loss: 0.9361, Perplexity: 2.5499\n",
      "location match accuracy: 0.0781, exact match accuracy:    0\n",
      "Epoch [3/5], Step [0/16], Loss: 0.9472, Perplexity: 2.5784\n",
      "location match accuracy: 0.0625, exact match accuracy:    0\n",
      "Epoch [3/5], Step [10/16], Loss: 0.9315, Perplexity: 2.5383\n",
      "location match accuracy: 0.0781, exact match accuracy:    0\n",
      "Epoch [4/5], Step [0/16], Loss: 0.9255, Perplexity: 2.5233\n",
      "location match accuracy: 0.1094, exact match accuracy:    0\n",
      "Epoch [4/5], Step [10/16], Loss: 0.9243, Perplexity: 2.5201\n",
      "location match accuracy: 0.0938, exact match accuracy:    0\n"
     ]
    }
   ],
   "source": [
    "import numpy as np\n",
    "num_epochs = 5 \n",
    "batch_size = 64\n",
    "learning_rate = 0.001\n",
    "log_step = 10\n",
    "plot_every = 5 \n",
    "\n",
    "all_losses =  [] \n",
    "all_accuarcy = [] \n",
    "all_exact_accuracy = []\n",
    "\n",
    "criterion = nn.CrossEntropyLoss()\n",
    "params = list(decoder.parameters()) + list(encoder.linear.parameters()) + list(encoder.bn.parameters())\n",
    "optimizer = torch.optim.Adam(params, lr=learning_rate)\n",
    "\n",
    "\n",
    "def rearrange_tensor(x, batch_size, caption_size):\n",
    "    for i in range(caption_size):\n",
    "        temp = x[i*batch_size:(i+1)*batch_size].view(batch_size, -1)\n",
    "        if i == 0:\n",
    "            temp_cat = temp \n",
    "        else: \n",
    "            temp_cat = torch.cat((temp_cat,  temp), 1)\n",
    "\n",
    "    return temp_cat\n",
    "\n",
    "\n",
    "def to_var(x, volatile=False):\n",
    "    if torch.cuda.is_available():\n",
    "        x = x.cuda()\n",
    "    return Variable(x, volatile=volatile)\n",
    "\n",
    "\n",
    "total_step = len(data_loader)\n",
    "for epoch in range(num_epochs):\n",
    "    for i, (images, captions, lengths) in enumerate(data_loader):\n",
    "\n",
    "        # Set mini-batch dataset\n",
    "        images = to_var(images, volatile=True)\n",
    "        captions = to_var(captions)\n",
    "        targets = pack_padded_sequence(captions, lengths, batch_first=True)[0]            \n",
    "        # Forward, Backward and Optimize\n",
    "        decoder.zero_grad()\n",
    "        encoder.zero_grad()\n",
    "        features = encoder(images)\n",
    "        outputs = decoder(features, captions, lengths)\n",
    "\n",
    "        loss = criterion(outputs, targets)\n",
    "        loss.backward()\n",
    "        optimizer.step()\n",
    "\n",
    "        # Print log info\n",
    "        if i % log_step == 0:\n",
    "            print('Epoch [%d/%d], Step [%d/%d], Loss: %.4f, Perplexity: %5.4f'\n",
    "                  %(epoch, num_epochs, i, total_step, \n",
    "                    loss.data[0], np.exp(loss.data[0]))) \n",
    "\n",
    "            ##test set accuracy \n",
    "            #rearrange tensor to batch_size * caption_size \n",
    "            re_target = rearrange_tensor(targets, batch_size, captions.size(1))\n",
    "            re_out_max = rearrange_tensor(outputs.max(1)[1], batch_size, captions.size(1))\n",
    "            #convert to numpy \n",
    "            outputs_np = re_out_max.cpu().data.numpy()\n",
    "            targets_np = re_target.cpu().data.numpy()\n",
    "\n",
    "            location_match = 0 \n",
    "            exact_match = 0             \n",
    "            for i in range(len(targets_np)):\n",
    " \n",
    "                if(outputs_np[i][1] == targets_np[i][1]):\n",
    "                    location_match +=1\n",
    "                if(np.array_equal(outputs_np[i], targets_np[i])):\n",
    "                    exact_match +=1 \n",
    "            print('location match accuracy: %.4f, exact match accuracy: %4.f'\n",
    "             %(location_match/len(targets_np), exact_match/len(targets_np)))\n",
    "            \n",
    "            all_losses.append(loss.data[0])\n",
    "            all_accuarcy.append(location_match/len(targets_np))\n",
    "            all_exact_accuracy.append(exact_match/len(targets_np))\n",
    "\n",
    "                "
   ]
  },
  {
   "cell_type": "code",
   "execution_count": 7,
   "metadata": {
    "collapsed": false
   },
   "outputs": [
    {
     "data": {
      "text/plain": [
       "[<matplotlib.lines.Line2D at 0x7f12121a5f98>]"
      ]
     },
     "execution_count": 7,
     "metadata": {},
     "output_type": "execute_result"
    }
   ],
   "source": [
    "import matplotlib.pyplot as plt\n",
    "import matplotlib.ticker as ticker\n",
    "\n",
    "plt.figure(1)\n",
    "plt.plot(all_losses)\n",
    "\n",
    "plt.figure(2)\n",
    "plt.plot(all_accuarcy)\n",
    "\n",
    "plt.figure(3)\n",
    "plt.plot(all_exact_accuracy)\n",
    "\n"
   ]
  },
  {
   "cell_type": "code",
   "execution_count": 8,
   "metadata": {
    "collapsed": false
   },
   "outputs": [
    {
     "data": {
      "image/png": "[encoded data removed]",
      "text/plain": [
       "<matplotlib.figure.Figure at 0x7f1217af9470>"
      ]
     },
     "metadata": {},
     "output_type": "display_data"
    },
    {
     "data": {
      "image/png": "[encoded data removed]",
      "text/plain": [
       "<matplotlib.figure.Figure at 0x7f1212fd8320>"
      ]
     },
     "metadata": {},
     "output_type": "display_data"
    },
    {
     "data": {
      "image/png": "[encoded data removed]",
      "text/plain": [
       "<matplotlib.figure.Figure at 0x7f121225aba8>"
      ]
     },
     "metadata": {},
     "output_type": "display_data"
    }
   ],
   "source": [
    "plt.show()"
   ]
  }
 ],
 "metadata": {
  "kernelspec": {
   "display_name": "Python 3",
   "language": "python",
   "name": "python3"
  },
  "language_info": {
   "codemirror_mode": {
    "name": "ipython",
    "version": 3
   },
   "file_extension": ".py",
   "mimetype": "text/x-python",
   "name": "python",
   "nbconvert_exporter": "python",
   "pygments_lexer": "ipython3",
   "version": "3.6.0"
  }
 },
 "nbformat": 4,
 "nbformat_minor": 2
}
